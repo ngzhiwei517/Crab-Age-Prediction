{
  "nbformat": 4,
  "nbformat_minor": 0,
  "metadata": {
    "colab": {
      "provenance": [],
      "include_colab_link": true
    },
    "kernelspec": {
      "name": "python3",
      "display_name": "Python 3"
    },
    "language_info": {
      "name": "python"
    }
  },
  "cells": [
    {
      "cell_type": "markdown",
      "metadata": {
        "id": "view-in-github",
        "colab_type": "text"
      },
      "source": [
        "<a href=\"https://colab.research.google.com/github/ngzhiwei517/Crab-Age-Prediction/blob/main/Crab_Age_Prediction.ipynb\" target=\"_parent\"><img src=\"https://colab.research.google.com/assets/colab-badge.svg\" alt=\"Open In Colab\"/></a>"
      ]
    },
    {
      "cell_type": "markdown",
      "source": [
        "# **Importing Crab Age Prediction dataset**\n",
        "\n",
        "Now we will load our data set into data frames:"
      ],
      "metadata": {
        "id": "4PMGoL0Zn5OD"
      }
    },
    {
      "cell_type": "code",
      "source": [
        "from google.colab import drive\n",
        "drive.mount('/content/drive')"
      ],
      "metadata": {
        "colab": {
          "base_uri": "https://localhost:8080/"
        },
        "id": "9XMGr23JPRcx",
        "outputId": "56ae5245-2cbb-4916-8425-0f89be347556"
      },
      "execution_count": null,
      "outputs": [
        {
          "output_type": "stream",
          "name": "stdout",
          "text": [
            "Mounted at /content/drive\n"
          ]
        }
      ]
    },
    {
      "cell_type": "code",
      "execution_count": null,
      "metadata": {
        "id": "--4D6EjAAEYt"
      },
      "outputs": [],
      "source": [
        "# Import dataset\n",
        "import pandas as pd\n",
        "DATA_DIR = \"/content/drive/MyDrive/ModifiedCrabAgePrediction.csv\"\n",
        "crabAge_df = pd.read_csv (DATA_DIR, header=0)"
      ]
    },
    {
      "cell_type": "markdown",
      "source": [
        "# **INFO OF DATA SET**"
      ],
      "metadata": {
        "id": "McPw3-OzoVu6"
      }
    },
    {
      "cell_type": "code",
      "source": [
        "#show the info of the data sets\n",
        "crabAge_df.info()"
      ],
      "metadata": {
        "id": "62e-oUdvoFlT",
        "colab": {
          "base_uri": "https://localhost:8080/"
        },
        "outputId": "0a3d1994-ebf6-46e2-cb14-b0783cea44bb"
      },
      "execution_count": null,
      "outputs": [
        {
          "output_type": "stream",
          "name": "stdout",
          "text": [
            "<class 'pandas.core.frame.DataFrame'>\n",
            "RangeIndex: 3500 entries, 0 to 3499\n",
            "Data columns (total 9 columns):\n",
            " #   Column          Non-Null Count  Dtype  \n",
            "---  ------          --------------  -----  \n",
            " 0   Sex             3500 non-null   object \n",
            " 1   Length          3456 non-null   float64\n",
            " 2   Diameter        3468 non-null   float64\n",
            " 3   Height          3413 non-null   float64\n",
            " 4   Weight          3462 non-null   float64\n",
            " 5   Shucked Weight  3500 non-null   float64\n",
            " 6   Viscera Weight  3500 non-null   float64\n",
            " 7   Shell Weight    3500 non-null   float64\n",
            " 8   Age             3500 non-null   int64  \n",
            "dtypes: float64(7), int64(1), object(1)\n",
            "memory usage: 246.2+ KB\n"
          ]
        }
      ]
    },
    {
      "cell_type": "code",
      "source": [
        "# Determine the datatype of Each Column by using dtypes\n",
        "print (crabAge_df.dtypes)"
      ],
      "metadata": {
        "id": "DIvn9Ddlz-QU",
        "colab": {
          "base_uri": "https://localhost:8080/"
        },
        "outputId": "12ec0470-21f6-4e35-dd59-269c2c41c121"
      },
      "execution_count": null,
      "outputs": [
        {
          "output_type": "stream",
          "name": "stdout",
          "text": [
            "Sex                object\n",
            "Length            float64\n",
            "Diameter          float64\n",
            "Height            float64\n",
            "Weight            float64\n",
            "Shucked Weight    float64\n",
            "Viscera Weight    float64\n",
            "Shell Weight      float64\n",
            "Age                 int64\n",
            "dtype: object\n"
          ]
        }
      ]
    },
    {
      "cell_type": "markdown",
      "source": [
        "# **Identify categorical and numerical data**"
      ],
      "metadata": {
        "id": "DzTie8uBqjRv"
      }
    },
    {
      "cell_type": "code",
      "source": [
        "# Identify categorical and numerical variables\n",
        "categorical_columns = crabAge_df.select_dtypes(include=['object']).columns.tolist()\n",
        "numerical_columns = crabAge_df.select_dtypes(exclude=['object']).columns.tolist()\n",
        "\n",
        "print(\"Categorical columns:\", categorical_columns)\n",
        "print(\"Numerical columns:\", numerical_columns)"
      ],
      "metadata": {
        "id": "fvDjcRA1qJ8p",
        "colab": {
          "base_uri": "https://localhost:8080/"
        },
        "outputId": "332f9892-0d64-401b-a458-48627cb2f683"
      },
      "execution_count": null,
      "outputs": [
        {
          "output_type": "stream",
          "name": "stdout",
          "text": [
            "Categorical columns: ['Sex']\n",
            "Numerical columns: ['Length', 'Diameter', 'Height', 'Weight', 'Shucked Weight', 'Viscera Weight', 'Shell Weight', 'Age']\n"
          ]
        }
      ]
    },
    {
      "cell_type": "markdown",
      "source": [
        "# **Data Prepocessing Steps**"
      ],
      "metadata": {
        "id": "ku7yUC1w0M2w"
      }
    },
    {
      "cell_type": "markdown",
      "source": [
        "Handle missing values\n",
        "\n",
        "Handle categorical variables\n",
        "\n",
        "Determine and removing outliers\n",
        "\n",
        "Scaling/normalizing the numerical features\n",
        "\n",
        "Split the dataset into training and testing sets for model evaluation.\n"
      ],
      "metadata": {
        "id": "SKaxfL5RiQmp"
      }
    },
    {
      "cell_type": "markdown",
      "source": [
        "# **Checking for number of null value**"
      ],
      "metadata": {
        "id": "O6wCG8fdoizX"
      }
    },
    {
      "cell_type": "code",
      "source": [
        "print(\"Find missing value of each column using isna()\")\n",
        "print ( crabAge_df.isna().sum())"
      ],
      "metadata": {
        "id": "Al40MQ77pISK",
        "colab": {
          "base_uri": "https://localhost:8080/"
        },
        "outputId": "16499445-9d1c-4796-de54-5ff66dc48034"
      },
      "execution_count": null,
      "outputs": [
        {
          "output_type": "stream",
          "name": "stdout",
          "text": [
            "Find missing value of each column using isna()\n",
            "Sex                0\n",
            "Length            44\n",
            "Diameter          32\n",
            "Height            87\n",
            "Weight            38\n",
            "Shucked Weight     0\n",
            "Viscera Weight     0\n",
            "Shell Weight       0\n",
            "Age                0\n",
            "dtype: int64\n"
          ]
        }
      ]
    },
    {
      "cell_type": "markdown",
      "source": [
        "we can observe that there are missing value in length,diameter,height and weight column"
      ],
      "metadata": {
        "id": "tgqd2Ax90T8L"
      }
    },
    {
      "cell_type": "markdown",
      "source": [
        "Once missing data is detected, imputation methods can be applied to fill in the missing values.\n",
        "\n",
        "For Numerical Data:\n",
        "\n",
        "Mean: If the data is normally distributed or does not have significant outliers, replacing missing values with the mean can be a suitable approach.\n",
        "Median: If the data contains outliers or is skewed, using the median to replace missing values might be more robust compared to the mean.\n",
        "For Categorical Data:\n",
        "\n",
        "Mode: Since categorical data doesn't have a notion of average or central tendency like numerical data, the mode (most frequent value) is used to impute missing values."
      ],
      "metadata": {
        "id": "3Cz35L8Li0WE"
      }
    },
    {
      "cell_type": "markdown",
      "source": [
        "# **Impute missing value with mean**"
      ],
      "metadata": {
        "id": "0qdA9zuS8Og8"
      }
    },
    {
      "cell_type": "code",
      "source": [
        "# Computation of the mean length by using mean ()\n",
        "mean_length = crabAge_df.Length.mean ()\n",
        "print()\n",
        "print (\"Mean length: %.2f\" % mean_length)\n",
        "\n",
        "# Impute the missing data with its mean by using fillna ()\n",
        "crabAge_df.Length.fillna(mean_length, inplace=True)\n",
        "print(\"\\nImpute missing length data with mean value:\")\n",
        "print (crabAge_df.isna().sum())"
      ],
      "metadata": {
        "id": "HDToUwlz7DQ4",
        "colab": {
          "base_uri": "https://localhost:8080/"
        },
        "outputId": "4fceedea-dcaa-4cd0-9c20-859d4c0c07a5"
      },
      "execution_count": null,
      "outputs": [
        {
          "output_type": "stream",
          "name": "stdout",
          "text": [
            "\n",
            "Mean length: 1.31\n",
            "\n",
            "Impute missing length data with mean value:\n",
            "Sex                0\n",
            "Length             0\n",
            "Diameter          32\n",
            "Height            87\n",
            "Weight            38\n",
            "Shucked Weight     0\n",
            "Viscera Weight     0\n",
            "Shell Weight       0\n",
            "Age                0\n",
            "dtype: int64\n"
          ]
        }
      ]
    },
    {
      "cell_type": "code",
      "source": [
        "# Computation of the mean diameter by using mean ()\n",
        "mean_diameter = crabAge_df.Diameter.mean ()\n",
        "print()\n",
        "print (\"Mean Diameter: %.2f\" % mean_diameter)\n",
        "\n",
        "# Impute the missing data with its mean by using fillna ()\n",
        "crabAge_df.Diameter.fillna(mean_diameter, inplace=True)\n",
        "print(\"\\nImpute missing diameter data with mean value:\")\n",
        "print (crabAge_df.isna().sum())"
      ],
      "metadata": {
        "id": "VCWgReMm8Xjp",
        "colab": {
          "base_uri": "https://localhost:8080/"
        },
        "outputId": "745cac99-a7b5-4c4b-96ae-934f2a8f1e8f"
      },
      "execution_count": null,
      "outputs": [
        {
          "output_type": "stream",
          "name": "stdout",
          "text": [
            "\n",
            "Mean Diameter: 1.02\n",
            "\n",
            "Impute missing diameter data with mean value:\n",
            "Sex                0\n",
            "Length             0\n",
            "Diameter           0\n",
            "Height            87\n",
            "Weight            38\n",
            "Shucked Weight     0\n",
            "Viscera Weight     0\n",
            "Shell Weight       0\n",
            "Age                0\n",
            "dtype: int64\n"
          ]
        }
      ]
    },
    {
      "cell_type": "code",
      "source": [
        "# Computation of the mean height by using mean ()\n",
        "mean_Height = crabAge_df.Height.mean ()\n",
        "print()\n",
        "print (\"Mean Height: %.2f\" % mean_Height)\n",
        "\n",
        "# Impute the missing data with its mean by using fillna ()\n",
        "crabAge_df.Height.fillna(mean_Height, inplace=True)\n",
        "print(\"\\nImpute missing height data with mean value:\")\n",
        "print (crabAge_df.isna().sum())"
      ],
      "metadata": {
        "id": "Wyd7YwJHBe05",
        "colab": {
          "base_uri": "https://localhost:8080/"
        },
        "outputId": "87cf488c-e996-4ae4-fef5-c5327917207b"
      },
      "execution_count": null,
      "outputs": [
        {
          "output_type": "stream",
          "name": "stdout",
          "text": [
            "\n",
            "Mean Height: 0.35\n",
            "\n",
            "Impute missing height data with mean value:\n",
            "Sex                0\n",
            "Length             0\n",
            "Diameter           0\n",
            "Height             0\n",
            "Weight            38\n",
            "Shucked Weight     0\n",
            "Viscera Weight     0\n",
            "Shell Weight       0\n",
            "Age                0\n",
            "dtype: int64\n"
          ]
        }
      ]
    },
    {
      "cell_type": "markdown",
      "source": [
        "# **Impute missing value with median**\n",
        "** used median because the 'Weight' variable is too diverse**"
      ],
      "metadata": {
        "id": "qtnxCztxB_uj"
      }
    },
    {
      "cell_type": "code",
      "source": [
        "# Computation of Median value by using median ()\n",
        "median_weight =crabAge_df.Weight.median()\n",
        "print (\"\\nMedian duration: %.2f\" % median_weight)\n",
        "\n",
        "# Impute the missing data with its median by using fillna ()\n",
        "crabAge_df.Weight.fillna(median_weight, inplace=True)\n",
        "print(\"\\nImpute missing data with median value:\")\n",
        "print (crabAge_df.isna().sum())"
      ],
      "metadata": {
        "id": "5kM8r2WwB_9W",
        "colab": {
          "base_uri": "https://localhost:8080/"
        },
        "outputId": "9ea2669e-8b4c-4277-b2f9-2fccbacc154a"
      },
      "execution_count": null,
      "outputs": [
        {
          "output_type": "stream",
          "name": "stdout",
          "text": [
            "\n",
            "Median duration: 23.12\n",
            "\n",
            "Impute missing data with median value:\n",
            "Sex               0\n",
            "Length            0\n",
            "Diameter          0\n",
            "Height            0\n",
            "Weight            0\n",
            "Shucked Weight    0\n",
            "Viscera Weight    0\n",
            "Shell Weight      0\n",
            "Age               0\n",
            "dtype: int64\n"
          ]
        }
      ]
    },
    {
      "cell_type": "code",
      "source": [
        "#After impute the missing value\n",
        "crabAge_df.info()"
      ],
      "metadata": {
        "id": "OS5eVBeRCwyr",
        "colab": {
          "base_uri": "https://localhost:8080/"
        },
        "outputId": "bfe924f2-b104-4b3c-f66e-8cad764496be"
      },
      "execution_count": null,
      "outputs": [
        {
          "output_type": "stream",
          "name": "stdout",
          "text": [
            "<class 'pandas.core.frame.DataFrame'>\n",
            "RangeIndex: 3500 entries, 0 to 3499\n",
            "Data columns (total 9 columns):\n",
            " #   Column          Non-Null Count  Dtype  \n",
            "---  ------          --------------  -----  \n",
            " 0   Sex             3500 non-null   object \n",
            " 1   Length          3500 non-null   float64\n",
            " 2   Diameter        3500 non-null   float64\n",
            " 3   Height          3500 non-null   float64\n",
            " 4   Weight          3500 non-null   float64\n",
            " 5   Shucked Weight  3500 non-null   float64\n",
            " 6   Viscera Weight  3500 non-null   float64\n",
            " 7   Shell Weight    3500 non-null   float64\n",
            " 8   Age             3500 non-null   int64  \n",
            "dtypes: float64(7), int64(1), object(1)\n",
            "memory usage: 246.2+ KB\n"
          ]
        }
      ]
    },
    {
      "cell_type": "markdown",
      "source": [
        "# **Identify categorical variable**"
      ],
      "metadata": {
        "id": "4C3Jl9TVIDqk"
      }
    },
    {
      "cell_type": "code",
      "source": [
        "# Separating Categorical Columns from Dataframe using select_dtypes()\n",
        "import numpy as np\n",
        "df_categorical =crabAge_df.select_dtypes(exclude=[np.number]) # exclude numerical using numpy\n",
        "print(df_categorical)"
      ],
      "metadata": {
        "id": "5jcmlOBCHrJ1",
        "colab": {
          "base_uri": "https://localhost:8080/"
        },
        "outputId": "85a7ae20-5415-4038-9289-f3c4364d6b75"
      },
      "execution_count": null,
      "outputs": [
        {
          "output_type": "stream",
          "name": "stdout",
          "text": [
            "     Sex\n",
            "0      F\n",
            "1      M\n",
            "2      I\n",
            "3      F\n",
            "4      I\n",
            "...   ..\n",
            "3495   I\n",
            "3496   F\n",
            "3497   I\n",
            "3498   I\n",
            "3499   I\n",
            "\n",
            "[3500 rows x 1 columns]\n"
          ]
        }
      ]
    },
    {
      "cell_type": "markdown",
      "source": [
        "# **Handling categorical variables**"
      ],
      "metadata": {
        "id": "HDWu_VqoJ05v"
      }
    },
    {
      "cell_type": "code",
      "source": [
        "print(df_categorical['Sex'].unique())\n",
        "print(df_categorical.Sex.value_counts())"
      ],
      "metadata": {
        "id": "JMKoOHYEH9N0",
        "colab": {
          "base_uri": "https://localhost:8080/"
        },
        "outputId": "1b80a3f3-2843-444a-addf-f57be7289020"
      },
      "execution_count": null,
      "outputs": [
        {
          "output_type": "stream",
          "name": "stdout",
          "text": [
            "['F' 'M' 'I']\n",
            "Sex\n",
            "M    1293\n",
            "F    1110\n",
            "I    1097\n",
            "Name: count, dtype: int64\n"
          ]
        }
      ]
    },
    {
      "cell_type": "markdown",
      "source": [
        "Replacing Categorical Data with Numbers where \"F' as 1,\"M\" as 2 and \"I\" is 3\n"
      ],
      "metadata": {
        "id": "C8YeXRwmKrUv"
      }
    },
    {
      "cell_type": "code",
      "source": [
        "import numpy as np\n",
        "\n",
        "# Update 'Sex' column in the original DataFrame\n",
        "crabAge_df['Sex'].replace({\"F\": 1, \"M\": 2, \"I\": 3}, inplace=True)\n",
        "\n",
        "# Print the updated DataFrame\n",
        "print(crabAge_df)"
      ],
      "metadata": {
        "id": "AHc-I-1H0y1T",
        "colab": {
          "base_uri": "https://localhost:8080/"
        },
        "outputId": "6c7fd881-4d7b-43ec-d2fe-3f033e17525e"
      },
      "execution_count": null,
      "outputs": [
        {
          "output_type": "stream",
          "name": "stdout",
          "text": [
            "      Sex  Length  Diameter  Height     Weight  Shucked Weight  \\\n",
            "0       1  1.4375    1.1750  0.4125  24.635715       12.332033   \n",
            "1       2  0.8875    0.6500  0.2125   5.400580        2.296310   \n",
            "2       3  1.0375    0.7750  0.2500   7.952035        3.231843   \n",
            "3       1  1.1750    0.8875  0.2500  13.480187        4.748541   \n",
            "4       3  0.8875    0.6625  0.2125   6.903103        3.458639   \n",
            "...   ...     ...       ...     ...        ...             ...   \n",
            "3495    3  0.9375    0.6875  0.2375   6.988152        3.118445   \n",
            "3496    1  1.5500    1.2125  0.4375  34.458817       15.450477   \n",
            "3497    3  0.6250    0.4625  0.1625   2.012815        0.765436   \n",
            "3498    3  1.0625    0.7750  0.2625  10.347568        4.507570   \n",
            "3499    3  0.7875    0.6125  0.2125   4.068153        1.502523   \n",
            "\n",
            "      Viscera Weight  Shell Weight  Age  \n",
            "0           5.584852      6.747181    9  \n",
            "1           1.374951      1.559222    6  \n",
            "2           1.601747      2.764076    6  \n",
            "3           2.282135      5.244657   10  \n",
            "4           1.488349      1.700970    6  \n",
            "...              ...           ...  ...  \n",
            "3495        1.176504      2.197086    6  \n",
            "3496        7.172423      9.780577   10  \n",
            "3497        0.524466      0.637864    5  \n",
            "3498        2.338834      2.976698    6  \n",
            "3499        1.346601      1.417475    8  \n",
            "\n",
            "[3500 rows x 9 columns]\n"
          ]
        }
      ]
    },
    {
      "cell_type": "markdown",
      "source": [
        "# **Determine and removing outliers**"
      ],
      "metadata": {
        "id": "hZzG5QUcGDic"
      }
    },
    {
      "cell_type": "code",
      "source": [
        "import seaborn as sns\n",
        "import matplotlib.pyplot as plt\n",
        "\n",
        "# Assuming crabAge_df is your DataFrame containing age data\n",
        "sns.boxplot(data=crabAge_df, x='Age', orient='h', showfliers=True)  # Set showfliers=True\n",
        "plt.title('Box Plot of Age with Outliers')\n",
        "plt.show()\n"
      ],
      "metadata": {
        "id": "mDz742zLGPWe",
        "colab": {
          "base_uri": "https://localhost:8080/",
          "height": 472
        },
        "outputId": "4d5dcf19-3c3e-4004-fcca-c078eb597b20"
      },
      "execution_count": null,
      "outputs": [
        {
          "output_type": "display_data",
          "data": {
            "text/plain": [
              "<Figure size 640x480 with 1 Axes>"
            ],
            "image/png": "[encoded data removed]"
          },
          "metadata": {}
        }
      ]
    },
    {
      "cell_type": "markdown",
      "source": [
        "# **Displaying the outlier**"
      ],
      "metadata": {
        "id": "d8IGxFnZnMBK"
      }
    },
    {
      "cell_type": "code",
      "source": [
        "max_age = crabAge_df.Age.max();\n",
        "mean_age = crabAge_df.Age.mean();\n",
        "min_age = crabAge_df.Age.min();\n",
        "print(f'Maximum age: {max_age}, Minimum age: {min_age} \\nMean age: {mean_age}')\n",
        "#Find outliers for age\n",
        "Q1 = crabAge_df.Age.quantile(0.25)\n",
        "Q3 = crabAge_df.Age.quantile(0.75)\n",
        "IQR = Q3-Q1\n",
        "print(f\"Q1: {Q1} , Q3: {Q3} , Interquatile range: {IQR}\")\n",
        "Outliers = crabAge_df[((crabAge_df[\"Age\"] < (Q1 - 1.5 * IQR)) | (crabAge_df[\"Age\"] > (Q3 + 1.5 * IQR)))]\n",
        "print(\"\\nOutliers\")\n",
        "print(Outliers)\n",
        "#remove outliers\n",
        "dat = crabAge_df[~(((crabAge_df[\"Age\"] < (Q1 - 1.5 * IQR)) | (crabAge_df[\"Age\"] > (Q3 + 1.5 * IQR))))]\n",
        "print(\"\\nData without outliers\")\n",
        "print(dat)"
      ],
      "metadata": {
        "id": "_g9iPR1zGZev",
        "colab": {
          "base_uri": "https://localhost:8080/"
        },
        "outputId": "1278a823-3d9b-4657-af09-59a84a2bfff3"
      },
      "execution_count": null,
      "outputs": [
        {
          "output_type": "stream",
          "name": "stdout",
          "text": [
            "Maximum age: 29, Minimum age: 1 \n",
            "Mean age: 9.977714285714285\n",
            "Q1: 8.0 , Q3: 11.0 , Interquatile range: 3.0\n",
            "\n",
            "Outliers\n",
            "      Sex  Length  Diameter  Height     Weight  Shucked Weight  \\\n",
            "18      1  1.4875    1.1875  0.4250  35.351827       13.607760   \n",
            "37      3  1.3750    1.1000  0.4125  24.394745        8.845044   \n",
            "40      1  1.7750    1.4125  0.4875  48.945412       18.086981   \n",
            "64      2  1.9375    1.4250  0.5500  57.606184       20.836883   \n",
            "67      2  1.5750    1.2875  0.4000  28.803092       11.949314   \n",
            "...   ...     ...       ...     ...        ...             ...   \n",
            "3421    2  1.6250    1.3000  0.4750  38.115903       14.713390   \n",
            "3435    2  1.6375    1.3125  0.4625  35.692020       13.806207   \n",
            "3465    2  1.5125    1.1875  0.4000  45.812792       15.578050   \n",
            "3474    1  1.2375    1.0000  0.3875  18.271253        6.860579   \n",
            "3488    1  1.7125    1.3125  0.4375  48.477645       15.351254   \n",
            "\n",
            "      Viscera Weight  Shell Weight  Age  \n",
            "18          6.378637     12.048538   20  \n",
            "37          4.791066      8.504850   17  \n",
            "40          9.539607     16.017467   17  \n",
            "64         13.480187     18.668146   17  \n",
            "67          6.917278     10.064072   19  \n",
            "...              ...           ...  ...  \n",
            "3421        8.674947     12.658052   16  \n",
            "3435        6.279414     12.615528   20  \n",
            "3465        9.412034      9.638830   18  \n",
            "3474        3.756309      5.811648   17  \n",
            "3488        8.759996     16.442710   16  \n",
            "\n",
            "[229 rows x 9 columns]\n",
            "\n",
            "Data without outliers\n",
            "      Sex  Length  Diameter  Height     Weight  Shucked Weight  \\\n",
            "0       1  1.4375    1.1750  0.4125  24.635715       12.332033   \n",
            "1       2  0.8875    0.6500  0.2125   5.400580        2.296310   \n",
            "2       3  1.0375    0.7750  0.2500   7.952035        3.231843   \n",
            "3       1  1.1750    0.8875  0.2500  13.480187        4.748541   \n",
            "4       3  0.8875    0.6625  0.2125   6.903103        3.458639   \n",
            "...   ...     ...       ...     ...        ...             ...   \n",
            "3495    3  0.9375    0.6875  0.2375   6.988152        3.118445   \n",
            "3496    1  1.5500    1.2125  0.4375  34.458817       15.450477   \n",
            "3497    3  0.6250    0.4625  0.1625   2.012815        0.765436   \n",
            "3498    3  1.0625    0.7750  0.2625  10.347568        4.507570   \n",
            "3499    3  0.7875    0.6125  0.2125   4.068153        1.502523   \n",
            "\n",
            "      Viscera Weight  Shell Weight  Age  \n",
            "0           5.584852      6.747181    9  \n",
            "1           1.374951      1.559222    6  \n",
            "2           1.601747      2.764076    6  \n",
            "3           2.282135      5.244657   10  \n",
            "4           1.488349      1.700970    6  \n",
            "...              ...           ...  ...  \n",
            "3495        1.176504      2.197086    6  \n",
            "3496        7.172423      9.780577   10  \n",
            "3497        0.524466      0.637864    5  \n",
            "3498        2.338834      2.976698    6  \n",
            "3499        1.346601      1.417475    8  \n",
            "\n",
            "[3271 rows x 9 columns]\n"
          ]
        }
      ]
    },
    {
      "cell_type": "markdown",
      "source": [
        "# **Removing the outlier**"
      ],
      "metadata": {
        "id": "ls27-WFCnPRs"
      }
    },
    {
      "cell_type": "code",
      "source": [
        "#Removing outliers\n",
        "import pandas as pd\n",
        "\n",
        "# Calculate quartiles and interquartile range (IQR) for 'Age' column\n",
        "Q1 = crabAge_df['Age'].quantile(0.25)\n",
        "Q3 = crabAge_df['Age'].quantile(0.75)\n",
        "IQR = Q3 - Q1\n",
        "\n",
        "# Define the upper and lower bounds to identify outliers\n",
        "lower_bound = Q1 - 1.5 * IQR\n",
        "upper_bound = Q3 + 1.5 * IQR\n",
        "\n",
        "# Filter out the outliers from the 'Age' column\n",
        "crabAge_df = crabAge_df[(crabAge_df['Age'] >= lower_bound) & (crabAge_df['Age'] <= upper_bound)]\n",
        "\n",
        "# Display the DataFrame after removing outliers\n",
        "print(\"Data without outliers:\")\n",
        "print(crabAge_df)\n"
      ],
      "metadata": {
        "id": "RpEbpLq-uKYR",
        "colab": {
          "base_uri": "https://localhost:8080/"
        },
        "outputId": "28b4ade8-1530-4a48-e6cc-d1731df80d35"
      },
      "execution_count": null,
      "outputs": [
        {
          "output_type": "stream",
          "name": "stdout",
          "text": [
            "Data without outliers:\n",
            "      Sex  Length  Diameter  Height     Weight  Shucked Weight  \\\n",
            "0       1  1.4375    1.1750  0.4125  24.635715       12.332033   \n",
            "1       2  0.8875    0.6500  0.2125   5.400580        2.296310   \n",
            "2       3  1.0375    0.7750  0.2500   7.952035        3.231843   \n",
            "3       1  1.1750    0.8875  0.2500  13.480187        4.748541   \n",
            "4       3  0.8875    0.6625  0.2125   6.903103        3.458639   \n",
            "...   ...     ...       ...     ...        ...             ...   \n",
            "3495    3  0.9375    0.6875  0.2375   6.988152        3.118445   \n",
            "3496    1  1.5500    1.2125  0.4375  34.458817       15.450477   \n",
            "3497    3  0.6250    0.4625  0.1625   2.012815        0.765436   \n",
            "3498    3  1.0625    0.7750  0.2625  10.347568        4.507570   \n",
            "3499    3  0.7875    0.6125  0.2125   4.068153        1.502523   \n",
            "\n",
            "      Viscera Weight  Shell Weight  Age  \n",
            "0           5.584852      6.747181    9  \n",
            "1           1.374951      1.559222    6  \n",
            "2           1.601747      2.764076    6  \n",
            "3           2.282135      5.244657   10  \n",
            "4           1.488349      1.700970    6  \n",
            "...              ...           ...  ...  \n",
            "3495        1.176504      2.197086    6  \n",
            "3496        7.172423      9.780577   10  \n",
            "3497        0.524466      0.637864    5  \n",
            "3498        2.338834      2.976698    6  \n",
            "3499        1.346601      1.417475    8  \n",
            "\n",
            "[3271 rows x 9 columns]\n"
          ]
        }
      ]
    },
    {
      "cell_type": "code",
      "source": [
        "sns.boxplot(data=crabAge_df, x='Age', orient='h')\n",
        "plt.title('Box Plot of Age without Outliers')\n",
        "plt.show()\n"
      ],
      "metadata": {
        "id": "SKfqXyXCuT5b",
        "colab": {
          "base_uri": "https://localhost:8080/",
          "height": 472
        },
        "outputId": "39c50d5d-02c3-43b3-ef29-47d4ca91056e"
      },
      "execution_count": null,
      "outputs": [
        {
          "output_type": "display_data",
          "data": {
            "text/plain": [
              "<Figure size 640x480 with 1 Axes>"
            ],
            "image/png": "[encoded data removed]"
          },
          "metadata": {}
        }
      ]
    },
    {
      "cell_type": "markdown",
      "source": [
        "# **Scaling the number features**"
      ],
      "metadata": {
        "id": "ekDPidfR1633"
      }
    },
    {
      "cell_type": "markdown",
      "source": [
        "Scaling the number features refers to the process of transforming numerical data to a common scale, typically between 0 and 1 or another predefined range.\n",
        "Min-Max Scaler has been used in this case.Min-Max scaling transforms the data such that the minimum value of the feature becomes 0 and the maximum value becomes 1."
      ],
      "metadata": {
        "id": "vXOENuPnnxms"
      }
    },
    {
      "cell_type": "code",
      "source": [
        "from sklearn import preprocessing\n",
        "# Perform Standard Scaling and Implement fit_transform () method\n",
        "# Using MinMax Scaler Method\n",
        "minmax_scale = preprocessing.MinMaxScaler().fit_transform (crabAge_df)\n",
        "scaled_frame = pd.DataFrame (minmax_scale, columns = crabAge_df.columns)\n",
        "print (scaled_frame.head())"
      ],
      "metadata": {
        "id": "DeceWn6M1Os5",
        "colab": {
          "base_uri": "https://localhost:8080/"
        },
        "outputId": "3bab856e-395e-4835-df67-3b9a4ff98ca2"
      },
      "execution_count": null,
      "outputs": [
        {
          "output_type": "stream",
          "name": "stdout",
          "text": [
            "   Sex    Length  Diameter    Height    Weight  Shucked Weight  \\\n",
            "0  0.0  0.649635  0.675676  0.146018  0.310040        0.289953   \n",
            "1  0.5  0.328467  0.297297  0.075221  0.065005        0.051247   \n",
            "2  1.0  0.416058  0.387387  0.088496  0.097508        0.073500   \n",
            "3  0.0  0.496350  0.468468  0.088496  0.167931        0.109575   \n",
            "4  1.0  0.328467  0.306306  0.075221  0.084146        0.078894   \n",
            "\n",
            "   Viscera Weight  Shell Weight       Age  \n",
            "0        0.256275      0.295340  0.454545  \n",
            "1        0.060106      0.064861  0.181818  \n",
            "2        0.070674      0.118388  0.181818  \n",
            "3        0.102378      0.228589  0.545455  \n",
            "4        0.065390      0.071159  0.181818  \n"
          ]
        }
      ]
    },
    {
      "cell_type": "markdown",
      "source": [
        "# **Shuffle the row**\n",
        "Shuffle Rows Prior to Splitting Data into Features (X) and Outcome (Y)\n",
        ".We shuffling to randomise the data, to avoid biasness before proceed to spliting the data"
      ],
      "metadata": {
        "id": "n9hHFQgZoBrW"
      }
    },
    {
      "cell_type": "code",
      "source": [
        "\n",
        "from sklearn.utils import shuffle\n",
        "\n",
        "\n",
        "scaled_frame_shuffled = shuffle(scaled_frame, random_state=42)\n",
        "scaled_frame_shuffled.head()\n"
      ],
      "metadata": {
        "id": "Qd_i4xNJ5N8t",
        "colab": {
          "base_uri": "https://localhost:8080/",
          "height": 206
        },
        "outputId": "03d27321-8104-46ac-ff86-5975afb700c9"
      },
      "execution_count": null,
      "outputs": [
        {
          "output_type": "execute_result",
          "data": {
            "text/plain": [
              "      Sex    Length  Diameter    Height    Weight  Shucked Weight  \\\n",
              "1644  0.0  0.416058  0.414414  0.101770  0.120982        0.091369   \n",
              "134   0.5  0.729927  0.693694  0.163717  0.433189        0.354012   \n",
              "411   0.0  0.766423  0.810811  0.146018  0.582160        0.438638   \n",
              "203   0.5  0.729927  0.738739  0.154867  0.437161        0.370870   \n",
              "1159  0.5  0.788321  0.747748  0.154867  0.547490        0.435604   \n",
              "\n",
              "      Viscera Weight  Shell Weight       Age  \n",
              "1644        0.097094      0.134131  0.454545  \n",
              "134         0.333554      0.401134  0.636364  \n",
              "411         0.391017      0.641688  0.727273  \n",
              "203         0.328930      0.423804  0.727273  \n",
              "1159        0.587186      0.430101  0.545455  "
            ],
            "text/html": [
              "\n",
              "  <div id=\"df-6ca4704b-8ed8-41df-af63-335232786c42\" class=\"colab-df-container\">\n",
              "    <div>\n",
              "<style scoped>\n",
              "    .dataframe tbody tr th:only-of-type {\n",
              "        vertical-align: middle;\n",
              "    }\n",
              "\n",
              "    .dataframe tbody tr th {\n",
              "        vertical-align: top;\n",
              "    }\n",
              "\n",
              "    .dataframe thead th {\n",
              "        text-align: right;\n",
              "    }\n",
              "</style>\n",
              "<table border=\"1\" class=\"dataframe\">\n",
              "  <thead>\n",
              "    <tr style=\"text-align: right;\">\n",
              "      <th></th>\n",
              "      <th>Sex</th>\n",
              "      <th>Length</th>\n",
              "      <th>Diameter</th>\n",
              "      <th>Height</th>\n",
              "      <th>Weight</th>\n",
              "      <th>Shucked Weight</th>\n",
              "      <th>Viscera Weight</th>\n",
              "      <th>Shell Weight</th>\n",
              "      <th>Age</th>\n",
              "    </tr>\n",
              "  </thead>\n",
              "  <tbody>\n",
              "    <tr>\n",
              "      <th>1644</th>\n",
              "      <td>0.0</td>\n",
              "      <td>0.416058</td>\n",
              "      <td>0.414414</td>\n",
              "      <td>0.101770</td>\n",
              "      <td>0.120982</td>\n",
              "      <td>0.091369</td>\n",
              "      <td>0.097094</td>\n",
              "      <td>0.134131</td>\n",
              "      <td>0.454545</td>\n",
              "    </tr>\n",
              "    <tr>\n",
              "      <th>134</th>\n",
              "      <td>0.5</td>\n",
              "      <td>0.729927</td>\n",
              "      <td>0.693694</td>\n",
              "      <td>0.163717</td>\n",
              "      <td>0.433189</td>\n",
              "      <td>0.354012</td>\n",
              "      <td>0.333554</td>\n",
              "      <td>0.401134</td>\n",
              "      <td>0.636364</td>\n",
              "    </tr>\n",
              "    <tr>\n",
              "      <th>411</th>\n",
              "      <td>0.0</td>\n",
              "      <td>0.766423</td>\n",
              "      <td>0.810811</td>\n",
              "      <td>0.146018</td>\n",
              "      <td>0.582160</td>\n",
              "      <td>0.438638</td>\n",
              "      <td>0.391017</td>\n",
              "      <td>0.641688</td>\n",
              "      <td>0.727273</td>\n",
              "    </tr>\n",
              "    <tr>\n",
              "      <th>203</th>\n",
              "      <td>0.5</td>\n",
              "      <td>0.729927</td>\n",
              "      <td>0.738739</td>\n",
              "      <td>0.154867</td>\n",
              "      <td>0.437161</td>\n",
              "      <td>0.370870</td>\n",
              "      <td>0.328930</td>\n",
              "      <td>0.423804</td>\n",
              "      <td>0.727273</td>\n",
              "    </tr>\n",
              "    <tr>\n",
              "      <th>1159</th>\n",
              "      <td>0.5</td>\n",
              "      <td>0.788321</td>\n",
              "      <td>0.747748</td>\n",
              "      <td>0.154867</td>\n",
              "      <td>0.547490</td>\n",
              "      <td>0.435604</td>\n",
              "      <td>0.587186</td>\n",
              "      <td>0.430101</td>\n",
              "      <td>0.545455</td>\n",
              "    </tr>\n",
              "  </tbody>\n",
              "</table>\n",
              "</div>\n",
              "    <div class=\"colab-df-buttons\">\n",
              "\n",
              "  <div class=\"colab-df-container\">\n",
              "    <button class=\"colab-df-convert\" onclick=\"convertToInteractive('df-6ca4704b-8ed8-41df-af63-335232786c42')\"\n",
              "            title=\"Convert this dataframe to an interactive table.\"\n",
              "            style=\"display:none;\">\n",
              "\n",
              "  <svg xmlns=\"http://www.w3.org/2000/svg\" height=\"24px\" viewBox=\"0 -960 960 960\">\n",
              "    <path d=\"M120-120v-720h720v720H120Zm60-500h600v-160H180v160Zm220 220h160v-160H400v160Zm0 220h160v-160H400v160ZM180-400h160v-160H180v160Zm440 0h160v-160H620v160ZM180-180h160v-160H180v160Zm440 0h160v-160H620v160Z\"/>\n",
              "  </svg>\n",
              "    </button>\n",
              "\n",
              "  <style>\n",
              "    .colab-df-container {\n",
              "      display:flex;\n",
              "      gap: 12px;\n",
              "    }\n",
              "\n",
              "    .colab-df-convert {\n",
              "      background-color: #E8F0FE;\n",
              "      border: none;\n",
              "      border-radius: 50%;\n",
              "      cursor: pointer;\n",
              "      display: none;\n",
              "      fill: #1967D2;\n",
              "      height: 32px;\n",
              "      padding: 0 0 0 0;\n",
              "      width: 32px;\n",
              "    }\n",
              "\n",
              "    .colab-df-convert:hover {\n",
              "      background-color: #E2EBFA;\n",
              "      box-shadow: 0px 1px 2px rgba(60, 64, 67, 0.3), 0px 1px 3px 1px rgba(60, 64, 67, 0.15);\n",
              "      fill: #174EA6;\n",
              "    }\n",
              "\n",
              "    .colab-df-buttons div {\n",
              "      margin-bottom: 4px;\n",
              "    }\n",
              "\n",
              "    [theme=dark] .colab-df-convert {\n",
              "      background-color: #3B4455;\n",
              "      fill: #D2E3FC;\n",
              "    }\n",
              "\n",
              "    [theme=dark] .colab-df-convert:hover {\n",
              "      background-color: #434B5C;\n",
              "      box-shadow: 0px 1px 3px 1px rgba(0, 0, 0, 0.15);\n",
              "      filter: drop-shadow(0px 1px 2px rgba(0, 0, 0, 0.3));\n",
              "      fill: #FFFFFF;\n",
              "    }\n",
              "  </style>\n",
              "\n",
              "    <script>\n",
              "      const buttonEl =\n",
              "        document.querySelector('#df-6ca4704b-8ed8-41df-af63-335232786c42 button.colab-df-convert');\n",
              "      buttonEl.style.display =\n",
              "        google.colab.kernel.accessAllowed ? 'block' : 'none';\n",
              "\n",
              "      async function convertToInteractive(key) {\n",
              "        const element = document.querySelector('#df-6ca4704b-8ed8-41df-af63-335232786c42');\n",
              "        const dataTable =\n",
              "          await google.colab.kernel.invokeFunction('convertToInteractive',\n",
              "                                                    [key], {});\n",
              "        if (!dataTable) return;\n",
              "\n",
              "        const docLinkHtml = 'Like what you see? Visit the ' +\n",
              "          '<a target=\"_blank\" href=https://colab.research.google.com/notebooks/data_table.ipynb>data table notebook</a>'\n",
              "          + ' to learn more about interactive tables.';\n",
              "        element.innerHTML = '';\n",
              "        dataTable['output_type'] = 'display_data';\n",
              "        await google.colab.output.renderOutput(dataTable, element);\n",
              "        const docLink = document.createElement('div');\n",
              "        docLink.innerHTML = docLinkHtml;\n",
              "        element.appendChild(docLink);\n",
              "      }\n",
              "    </script>\n",
              "  </div>\n",
              "\n",
              "\n",
              "<div id=\"df-53467a25-91d7-41e6-bd72-53178f8cef85\">\n",
              "  <button class=\"colab-df-quickchart\" onclick=\"quickchart('df-53467a25-91d7-41e6-bd72-53178f8cef85')\"\n",
              "            title=\"Suggest charts\"\n",
              "            style=\"display:none;\">\n",
              "\n",
              "<svg xmlns=\"http://www.w3.org/2000/svg\" height=\"24px\"viewBox=\"0 0 24 24\"\n",
              "     width=\"24px\">\n",
              "    <g>\n",
              "        <path d=\"M19 3H5c-1.1 0-2 .9-2 2v14c0 1.1.9 2 2 2h14c1.1 0 2-.9 2-2V5c0-1.1-.9-2-2-2zM9 17H7v-7h2v7zm4 0h-2V7h2v10zm4 0h-2v-4h2v4z\"/>\n",
              "    </g>\n",
              "</svg>\n",
              "  </button>\n",
              "\n",
              "<style>\n",
              "  .colab-df-quickchart {\n",
              "      --bg-color: #E8F0FE;\n",
              "      --fill-color: #1967D2;\n",
              "      --hover-bg-color: #E2EBFA;\n",
              "      --hover-fill-color: #174EA6;\n",
              "      --disabled-fill-color: #AAA;\n",
              "      --disabled-bg-color: #DDD;\n",
              "  }\n",
              "\n",
              "  [theme=dark] .colab-df-quickchart {\n",
              "      --bg-color: #3B4455;\n",
              "      --fill-color: #D2E3FC;\n",
              "      --hover-bg-color: #434B5C;\n",
              "      --hover-fill-color: #FFFFFF;\n",
              "      --disabled-bg-color: #3B4455;\n",
              "      --disabled-fill-color: #666;\n",
              "  }\n",
              "\n",
              "  .colab-df-quickchart {\n",
              "    background-color: var(--bg-color);\n",
              "    border: none;\n",
              "    border-radius: 50%;\n",
              "    cursor: pointer;\n",
              "    display: none;\n",
              "    fill: var(--fill-color);\n",
              "    height: 32px;\n",
              "    padding: 0;\n",
              "    width: 32px;\n",
              "  }\n",
              "\n",
              "  .colab-df-quickchart:hover {\n",
              "    background-color: var(--hover-bg-color);\n",
              "    box-shadow: 0 1px 2px rgba(60, 64, 67, 0.3), 0 1px 3px 1px rgba(60, 64, 67, 0.15);\n",
              "    fill: var(--button-hover-fill-color);\n",
              "  }\n",
              "\n",
              "  .colab-df-quickchart-complete:disabled,\n",
              "  .colab-df-quickchart-complete:disabled:hover {\n",
              "    background-color: var(--disabled-bg-color);\n",
              "    fill: var(--disabled-fill-color);\n",
              "    box-shadow: none;\n",
              "  }\n",
              "\n",
              "  .colab-df-spinner {\n",
              "    border: 2px solid var(--fill-color);\n",
              "    border-color: transparent;\n",
              "    border-bottom-color: var(--fill-color);\n",
              "    animation:\n",
              "      spin 1s steps(1) infinite;\n",
              "  }\n",
              "\n",
              "  @keyframes spin {\n",
              "    0% {\n",
              "      border-color: transparent;\n",
              "      border-bottom-color: var(--fill-color);\n",
              "      border-left-color: var(--fill-color);\n",
              "    }\n",
              "    20% {\n",
              "      border-color: transparent;\n",
              "      border-left-color: var(--fill-color);\n",
              "      border-top-color: var(--fill-color);\n",
              "    }\n",
              "    30% {\n",
              "      border-color: transparent;\n",
              "      border-left-color: var(--fill-color);\n",
              "      border-top-color: var(--fill-color);\n",
              "      border-right-color: var(--fill-color);\n",
              "    }\n",
              "    40% {\n",
              "      border-color: transparent;\n",
              "      border-right-color: var(--fill-color);\n",
              "      border-top-color: var(--fill-color);\n",
              "    }\n",
              "    60% {\n",
              "      border-color: transparent;\n",
              "      border-right-color: var(--fill-color);\n",
              "    }\n",
              "    80% {\n",
              "      border-color: transparent;\n",
              "      border-right-color: var(--fill-color);\n",
              "      border-bottom-color: var(--fill-color);\n",
              "    }\n",
              "    90% {\n",
              "      border-color: transparent;\n",
              "      border-bottom-color: var(--fill-color);\n",
              "    }\n",
              "  }\n",
              "</style>\n",
              "\n",
              "  <script>\n",
              "    async function quickchart(key) {\n",
              "      const quickchartButtonEl =\n",
              "        document.querySelector('#' + key + ' button');\n",
              "      quickchartButtonEl.disabled = true;  // To prevent multiple clicks.\n",
              "      quickchartButtonEl.classList.add('colab-df-spinner');\n",
              "      try {\n",
              "        const charts = await google.colab.kernel.invokeFunction(\n",
              "            'suggestCharts', [key], {});\n",
              "      } catch (error) {\n",
              "        console.error('Error during call to suggestCharts:', error);\n",
              "      }\n",
              "      quickchartButtonEl.classList.remove('colab-df-spinner');\n",
              "      quickchartButtonEl.classList.add('colab-df-quickchart-complete');\n",
              "    }\n",
              "    (() => {\n",
              "      let quickchartButtonEl =\n",
              "        document.querySelector('#df-53467a25-91d7-41e6-bd72-53178f8cef85 button');\n",
              "      quickchartButtonEl.style.display =\n",
              "        google.colab.kernel.accessAllowed ? 'block' : 'none';\n",
              "    })();\n",
              "  </script>\n",
              "</div>\n",
              "    </div>\n",
              "  </div>\n"
            ],
            "application/vnd.google.colaboratory.intrinsic+json": {
              "type": "dataframe",
              "variable_name": "scaled_frame_shuffled",
              "summary": "{\n  \"name\": \"scaled_frame_shuffled\",\n  \"rows\": 3271,\n  \"fields\": [\n    {\n      \"column\": \"Sex\",\n      \"properties\": {\n        \"dtype\": \"number\",\n        \"std\": 0.3978089647494047,\n        \"min\": 0.0,\n        \"max\": 1.0,\n        \"num_unique_values\": 3,\n        \"samples\": [\n          0.0,\n          0.5,\n          1.0\n        ],\n        \"semantic_type\": \"\",\n        \"description\": \"\"\n      }\n    },\n    {\n      \"column\": \"Length\",\n      \"properties\": {\n        \"dtype\": \"number\",\n        \"std\": 0.172373438111106,\n        \"min\": 0.0,\n        \"max\": 1.0,\n        \"num_unique_values\": 130,\n        \"samples\": [\n          0.8248175182481752,\n          0.7372262773722627,\n          0.6058394160583941\n        ],\n        \"semantic_type\": \"\",\n        \"description\": \"\"\n      }\n    },\n    {\n      \"column\": \"Diameter\",\n      \"properties\": {\n        \"dtype\": \"number\",\n        \"std\": 0.17623549808757205,\n        \"min\": 0.0,\n        \"max\": 1.0,\n        \"num_unique_values\": 109,\n        \"samples\": [\n          0.21621621621621626,\n          0.5855855855855857,\n          0.7477477477477478\n        ],\n        \"semantic_type\": \"\",\n        \"description\": \"\"\n      }\n    },\n    {\n      \"column\": \"Height\",\n      \"properties\": {\n        \"dtype\": \"number\",\n        \"std\": 0.03672433603224632,\n        \"min\": 0.0,\n        \"max\": 1.0,\n        \"num_unique_values\": 51,\n        \"samples\": [\n          0.20353982300884954,\n          0.1902654867256637,\n          0.030973451327433624\n        ],\n        \"semantic_type\": \"\",\n        \"description\": \"\"\n      }\n    },\n    {\n      \"column\": \"Weight\",\n      \"properties\": {\n        \"dtype\": \"number\",\n        \"std\": 0.1733687572582784,\n        \"min\": 0.0,\n        \"max\": 1.0,\n        \"num_unique_values\": 2092,\n        \"samples\": [\n          0.6236908631274828,\n          0.38587937883712525,\n          0.43878656554712886\n        ],\n        \"semantic_type\": \"\",\n        \"description\": \"\"\n      }\n    },\n    {\n      \"column\": \"Shucked Weight\",\n      \"properties\": {\n        \"dtype\": \"number\",\n        \"std\": 0.15041119704194697,\n        \"min\": 0.0,\n        \"max\": 1.0,\n        \"num_unique_values\": 1391,\n        \"samples\": [\n          0.29231287929871885,\n          0.4932569116655429,\n          0.47977073499662853\n        ],\n        \"semantic_type\": \"\",\n        \"description\": \"\"\n      }\n    },\n    {\n      \"column\": \"Viscera Weight\",\n      \"properties\": {\n        \"dtype\": \"number\",\n        \"std\": 0.14431809518741717,\n        \"min\": 0.0,\n        \"max\": 0.9999999999999998,\n        \"num_unique_values\": 828,\n        \"samples\": [\n          0.09445178335535005,\n          0.3956406869220608,\n          0.028401585204755615\n        ],\n        \"semantic_type\": \"\",\n        \"description\": \"\"\n      }\n    },\n    {\n      \"column\": \"Shell Weight\",\n      \"properties\": {\n        \"dtype\": \"number\",\n        \"std\": 0.1655977187087201,\n        \"min\": 0.0,\n        \"max\": 1.0,\n        \"num_unique_values\": 845,\n        \"samples\": [\n          0.24937027707808565,\n          0.3198992443324937,\n          0.2783375314861461\n        ],\n        \"semantic_type\": \"\",\n        \"description\": \"\"\n      }\n    },\n    {\n      \"column\": \"Age\",\n      \"properties\": {\n        \"dtype\": \"number\",\n        \"std\": 0.21769830864882875,\n        \"min\": 0.0,\n        \"max\": 1.0,\n        \"num_unique_values\": 12,\n        \"samples\": [\n          1.0,\n          0.8181818181818182,\n          0.4545454545454546\n        ],\n        \"semantic_type\": \"\",\n        \"description\": \"\"\n      }\n    }\n  ]\n}"
            }
          },
          "metadata": {},
          "execution_count": 263
        }
      ]
    },
    {
      "cell_type": "markdown",
      "source": [
        "# **Split the data**"
      ],
      "metadata": {
        "id": "EpJbzDftMQv3"
      }
    },
    {
      "cell_type": "code",
      "source": [
        "# DV => Dependent variable\n",
        "DV = 'Age'\n",
        "\n",
        "# We drop DV,so that x only have the independent variables\n",
        "x = scaled_frame_shuffled.drop (DV, axis=1) # axis=1, drop the DV column\n",
        "y = scaled_frame_shuffled [DV]"
      ],
      "metadata": {
        "id": "BdINC3LM09tI"
      },
      "execution_count": null,
      "outputs": []
    },
    {
      "cell_type": "markdown",
      "source": [
        "x = scaled_frame_shuffled.drop(DV, axis=1) creates a new DataFrame x that contains all the columns (features) except for the dependent variable column\n",
        "\n",
        " The axis=1 parameter tells pandas to drop the column(s) along the column axis\n",
        "\n",
        "y = scaled_frame_shuffled[DV] creates a pandas Series y that contains only the values of the dependent variable column"
      ],
      "metadata": {
        "id": "kwLJsb376DO9"
      }
    },
    {
      "cell_type": "markdown",
      "source": [
        "Below is the training:\n",
        "\n",
        "20% for training, The rest for testing\n",
        "random_state = 42 is used to select the 20% of the data set for testing randomly"
      ],
      "metadata": {
        "id": "CXXPt-OiZK4h"
      }
    },
    {
      "cell_type": "code",
      "source": [
        "from sklearn.model_selection import train_test_split\n",
        "x_train, x_test, y_train, y_test = train_test_split (x, y, test_size=0.20, random_state=42)\n",
        "\n",
        "#Find the number of training set\n",
        "num_samples_train = x_train.shape[0]\n",
        "print(\"Number of samples in x_train:\", num_samples_train)\n",
        "\n",
        "#Find the number of testing set\n",
        "num_samples_test = x_test.shape[0]\n",
        "print(\"Number of samples in x_test:\", num_samples_test)\n"
      ],
      "metadata": {
        "id": "REU6cxlOZimk",
        "colab": {
          "base_uri": "https://localhost:8080/"
        },
        "outputId": "f1bbd063-ce27-4fd6-e703-037329722dfc"
      },
      "execution_count": null,
      "outputs": [
        {
          "output_type": "stream",
          "name": "stdout",
          "text": [
            "Number of samples in x_train: 2616\n",
            "Number of samples in x_test: 655\n"
          ]
        }
      ]
    },
    {
      "cell_type": "markdown",
      "source": [
        "# **Regression Model Development**"
      ],
      "metadata": {
        "id": "b8fNb2jmojQF"
      }
    },
    {
      "cell_type": "markdown",
      "source": [
        "**Multiple Regression Model**\n",
        "\n",
        "Multiple regression model has been used to evaluate the performance"
      ],
      "metadata": {
        "id": "Qd-yZ5L_59a-"
      }
    },
    {
      "cell_type": "markdown",
      "source": [
        "Model training"
      ],
      "metadata": {
        "id": "sbZ4Sy0JAHXj"
      }
    },
    {
      "cell_type": "code",
      "source": [
        "from sklearn.linear_model import LinearRegression\n",
        "model = LinearRegression()                    # we create an object called model\n",
        "\n",
        "# Fit model to training data\n",
        "model.fit(x_train, y_train)"
      ],
      "metadata": {
        "id": "IaoSI9Xn6ymh",
        "colab": {
          "base_uri": "https://localhost:8080/",
          "height": 74
        },
        "outputId": "70427b92-5ee0-4702-bf0b-87aa312365a1"
      },
      "execution_count": null,
      "outputs": [
        {
          "output_type": "execute_result",
          "data": {
            "text/plain": [
              "LinearRegression()"
            ],
            "text/html": [
              "<style>#sk-container-id-8 {color: black;background-color: white;}#sk-container-id-8 pre{padding: 0;}#sk-container-id-8 div.sk-toggleable {background-color: white;}#sk-container-id-8 label.sk-toggleable__label {cursor: pointer;display: block;width: 100%;margin-bottom: 0;padding: 0.3em;box-sizing: border-box;text-align: center;}#sk-container-id-8 label.sk-toggleable__label-arrow:before {content: \"▸\";float: left;margin-right: 0.25em;color: #696969;}#sk-container-id-8 label.sk-toggleable__label-arrow:hover:before {color: black;}#sk-container-id-8 div.sk-estimator:hover label.sk-toggleable__label-arrow:before {color: black;}#sk-container-id-8 div.sk-toggleable__content {max-height: 0;max-width: 0;overflow: hidden;text-align: left;background-color: #f0f8ff;}#sk-container-id-8 div.sk-toggleable__content pre {margin: 0.2em;color: black;border-radius: 0.25em;background-color: #f0f8ff;}#sk-container-id-8 input.sk-toggleable__control:checked~div.sk-toggleable__content {max-height: 200px;max-width: 100%;overflow: auto;}#sk-container-id-8 input.sk-toggleable__control:checked~label.sk-toggleable__label-arrow:before {content: \"▾\";}#sk-container-id-8 div.sk-estimator input.sk-toggleable__control:checked~label.sk-toggleable__label {background-color: #d4ebff;}#sk-container-id-8 div.sk-label input.sk-toggleable__control:checked~label.sk-toggleable__label {background-color: #d4ebff;}#sk-container-id-8 input.sk-hidden--visually {border: 0;clip: rect(1px 1px 1px 1px);clip: rect(1px, 1px, 1px, 1px);height: 1px;margin: -1px;overflow: hidden;padding: 0;position: absolute;width: 1px;}#sk-container-id-8 div.sk-estimator {font-family: monospace;background-color: #f0f8ff;border: 1px dotted black;border-radius: 0.25em;box-sizing: border-box;margin-bottom: 0.5em;}#sk-container-id-8 div.sk-estimator:hover {background-color: #d4ebff;}#sk-container-id-8 div.sk-parallel-item::after {content: \"\";width: 100%;border-bottom: 1px solid gray;flex-grow: 1;}#sk-container-id-8 div.sk-label:hover label.sk-toggleable__label {background-color: #d4ebff;}#sk-container-id-8 div.sk-serial::before {content: \"\";position: absolute;border-left: 1px solid gray;box-sizing: border-box;top: 0;bottom: 0;left: 50%;z-index: 0;}#sk-container-id-8 div.sk-serial {display: flex;flex-direction: column;align-items: center;background-color: white;padding-right: 0.2em;padding-left: 0.2em;position: relative;}#sk-container-id-8 div.sk-item {position: relative;z-index: 1;}#sk-container-id-8 div.sk-parallel {display: flex;align-items: stretch;justify-content: center;background-color: white;position: relative;}#sk-container-id-8 div.sk-item::before, #sk-container-id-8 div.sk-parallel-item::before {content: \"\";position: absolute;border-left: 1px solid gray;box-sizing: border-box;top: 0;bottom: 0;left: 50%;z-index: -1;}#sk-container-id-8 div.sk-parallel-item {display: flex;flex-direction: column;z-index: 1;position: relative;background-color: white;}#sk-container-id-8 div.sk-parallel-item:first-child::after {align-self: flex-end;width: 50%;}#sk-container-id-8 div.sk-parallel-item:last-child::after {align-self: flex-start;width: 50%;}#sk-container-id-8 div.sk-parallel-item:only-child::after {width: 0;}#sk-container-id-8 div.sk-dashed-wrapped {border: 1px dashed gray;margin: 0 0.4em 0.5em 0.4em;box-sizing: border-box;padding-bottom: 0.4em;background-color: white;}#sk-container-id-8 div.sk-label label {font-family: monospace;font-weight: bold;display: inline-block;line-height: 1.2em;}#sk-container-id-8 div.sk-label-container {text-align: center;}#sk-container-id-8 div.sk-container {/* jupyter's `normalize.less` sets `[hidden] { display: none; }` but bootstrap.min.css set `[hidden] { display: none !important; }` so we also need the `!important` here to be able to override the default hidden behavior on the sphinx rendered scikit-learn.org. See: https://github.com/scikit-learn/scikit-learn/issues/21755 */display: inline-block !important;position: relative;}#sk-container-id-8 div.sk-text-repr-fallback {display: none;}</style><div id=\"sk-container-id-8\" class=\"sk-top-container\"><div class=\"sk-text-repr-fallback\"><pre>LinearRegression()</pre><b>In a Jupyter environment, please rerun this cell to show the HTML representation or trust the notebook. <br />On GitHub, the HTML representation is unable to render, please try loading this page with nbviewer.org.</b></div><div class=\"sk-container\" hidden><div class=\"sk-item\"><div class=\"sk-estimator sk-toggleable\"><input class=\"sk-toggleable__control sk-hidden--visually\" id=\"sk-estimator-id-8\" type=\"checkbox\" checked><label for=\"sk-estimator-id-8\" class=\"sk-toggleable__label sk-toggleable__label-arrow\">LinearRegression</label><div class=\"sk-toggleable__content\"><pre>LinearRegression()</pre></div></div></div></div></div>"
            ]
          },
          "metadata": {},
          "execution_count": 266
        }
      ]
    },
    {
      "cell_type": "markdown",
      "source": [
        "# **Prediction**\n",
        "In multiple regression,We select all columns-table to test on"
      ],
      "metadata": {
        "id": "krkTtNerBx4t"
      }
    },
    {
      "cell_type": "code",
      "source": [
        "y_predictions=model.predict(x_test)"
      ],
      "metadata": {
        "id": "LNCDKcnz7I0t"
      },
      "execution_count": null,
      "outputs": []
    },
    {
      "cell_type": "code",
      "source": [
        "# Creating a Correlation Coefficient and Display on Plot Title\n",
        "import matplotlib.pyplot as plt\n",
        "from scipy.stats import pearsonr\n",
        "plt.scatter (y_test, y_predictions)\n",
        "plt.xlabel ('Y Test (True Values)')\n",
        "plt.ylabel('Predicted Values')\n",
        "plt.title('Predicted vs. Actual Values (r = {0:0.2f})'.format(pearsonr(y_test,y_predictions)[0], 2))\n",
        "plt.show()"
      ],
      "metadata": {
        "colab": {
          "base_uri": "https://localhost:8080/",
          "height": 472
        },
        "id": "QBuv9-86yU2Y",
        "outputId": "08c8fdfe-8c8c-4ec1-b228-e9565285edbc"
      },
      "execution_count": null,
      "outputs": [
        {
          "output_type": "display_data",
          "data": {
            "text/plain": [
              "<Figure size 640x480 with 1 Axes>"
            ],
            "image/png": "[encoded data removed]"
          },
          "metadata": {}
        }
      ]
    },
    {
      "cell_type": "markdown",
      "source": [
        "The above graph illustrates the correlation coefficient between the  the predicted values and actual values. Utilizing Pearson's correlation coefficient (r),the title of the plot denotes the correlation coefficient, approximately\n",
        "0.73 means r=0.73, indicating a robust positive linear association between the observed and predicted values."
      ],
      "metadata": {
        "id": "H-qdiSw7pzVg"
      }
    },
    {
      "cell_type": "code",
      "source": [
        "# Performance Metrics\n",
        "from sklearn import metrics\n",
        "import numpy as np\n",
        "metrics_df = pd.DataFrame ({'Metric':\n",
        "[\n",
        "'MSE',\n",
        "'RMSE',\n",
        "'R-Squared'], 'Value':\n",
        "\n",
        "[metrics.mean_squared_error (y_test,y_predictions),\n",
        "np.sqrt (metrics.mean_squared_error (y_test,y_predictions)),\n",
        "metrics.explained_variance_score (y_test, y_predictions)]}).round(3)\n",
        "print(metrics_df)"
      ],
      "metadata": {
        "colab": {
          "base_uri": "https://localhost:8080/"
        },
        "id": "al7Cf4HTyvNO",
        "outputId": "af791e2f-f763-4544-a310-28571b620b93"
      },
      "execution_count": null,
      "outputs": [
        {
          "output_type": "stream",
          "name": "stdout",
          "text": [
            "      Metric  Value\n",
            "0        MSE  0.023\n",
            "1       RMSE  0.150\n",
            "2  R-Squared  0.538\n"
          ]
        }
      ]
    },
    {
      "cell_type": "markdown",
      "source": [
        "# **Polynomial regression model**"
      ],
      "metadata": {
        "id": "-G7vAJrfEGaR"
      }
    },
    {
      "cell_type": "code",
      "source": [
        "from sklearn.preprocessing import PolynomialFeatures\n",
        "from sklearn.linear_model import LinearRegression\n",
        "from sklearn.metrics import mean_squared_error, r2_score\n",
        "import matplotlib.pyplot as plt\n",
        "import seaborn as sns\n",
        "from scipy.stats import pearsonr  # Import pearsonr for correlation coefficient calculation\n",
        "\n",
        "# Define the degree of the polynomial\n",
        "degree = 2\n",
        "\n",
        "# Polynomial feature transformation\n",
        "poly_features = PolynomialFeatures(degree=degree)\n",
        "X_train_poly = poly_features.fit_transform(x_train)\n",
        "X_test_poly = poly_features.transform(x_test)\n",
        "\n",
        "# Fit the polynomial regression model\n",
        "model_poly = LinearRegression()\n",
        "model_poly.fit(X_train_poly, y_train)\n",
        "\n",
        "# Predictions\n",
        "predictions_poly = model_poly.predict(X_test_poly)\n",
        "\n",
        "# Model Evaluation\n",
        "mse_poly = mean_squared_error(y_test, predictions_poly)\n",
        "rmse_poly = np.sqrt(mse_poly)\n",
        "r2_poly = r2_score(y_test, predictions_poly)\n",
        "\n",
        "# Plotting Scatter Plot\n",
        "plt.scatter(y_test, predictions_poly)\n",
        "plt.xlabel('Actual Values')\n",
        "plt.ylabel('Predicted Values')\n",
        "# Calculate Pearson correlation coefficient\n",
        "pearson_corr, _ = pearsonr(y_test, predictions_poly)\n",
        "plt.title('Predicted vs. Actual Values (r = {0:0.2f})'.format(pearson_corr))\n",
        "plt.show()\n",
        "\n",
        "\n",
        "\n",
        "# Print Model Evaluation Metrics\n",
        "print('\\nPolynomial Regression Model Evaluation:')\n",
        "print(f'Mean Squared Error\\t: {mse_poly}')\n",
        "print(f'Root Mean Squared Error\\t: {rmse_poly}')\n",
        "print(f'R-squared\\t\\t: {r2_poly}')\n"
      ],
      "metadata": {
        "colab": {
          "base_uri": "https://localhost:8080/",
          "height": 563
        },
        "id": "jD2d8ZpY_zm2",
        "outputId": "ac56a208-279c-47a3-8830-dba6db53d5d2"
      },
      "execution_count": null,
      "outputs": [
        {
          "output_type": "display_data",
          "data": {
            "text/plain": [
              "<Figure size 640x480 with 1 Axes>"
            ],
            "image/png": "[encoded data removed]"
          },
          "metadata": {}
        },
        {
          "output_type": "stream",
          "name": "stdout",
          "text": [
            "\n",
            "Polynomial Regression Model Evaluation:\n",
            "Mean Squared Error\t: 0.021457855004366613\n",
            "Root Mean Squared Error\t: 0.14648499924690792\n",
            "R-squared\t\t: 0.5623386822576386\n"
          ]
        }
      ]
    },
    {
      "cell_type": "markdown",
      "source": [
        "It seems like polynomial regression model is better than multiple linear regression model based on MSE,RMSE and R-squared value. So we will evaluate by using polynomial regression model."
      ],
      "metadata": {
        "id": "h5SieYr9A44R"
      }
    },
    {
      "cell_type": "markdown",
      "source": [
        "# **Model Evaluation**"
      ],
      "metadata": {
        "id": "nsuO-tlEqK7i"
      }
    },
    {
      "cell_type": "markdown",
      "source": [
        "# **Ridge regularization**"
      ],
      "metadata": {
        "id": "I0WWiQ7Ptvot"
      }
    },
    {
      "cell_type": "markdown",
      "source": [
        "Ridge regression has been used to evaluate the performance of model by using different evaluation metrics.\n",
        "Alpha (α): This parameter controls the amount of regularization applied to the model. In my code, I use three different values for alpha: 0.001, 0.1, and 1.\n",
        "\n",
        "A higher value of alpha (e.g., 1) means stronger regularization, which will shrink the coefficients more towards zero, potentially reducing the impact of less important features.\n",
        "\n",
        "A lower value of alpha (e.g., 0.001) means weaker regularization, allowing the coefficients to take on larger values and potentially capture more complex relationships in the data.\n",
        "\n",
        "L1_ratio: This hyperparameter determines the ratio of L1 (Lasso) to L2 (Ridge) regularization. The code explores three different values: 0 (pure L2 regularization), 0.5 (a combination of L1 and L2), and 1 (pure L1 regularization)."
      ],
      "metadata": {
        "id": "v_Wdu0bfgcat"
      }
    },
    {
      "cell_type": "code",
      "source": [
        "from sklearn.preprocessing import PolynomialFeatures\n",
        "from sklearn.linear_model import Ridge\n",
        "from sklearn.metrics import mean_squared_error, r2_score\n",
        "from sklearn.model_selection import RandomizedSearchCV\n",
        "import matplotlib.pyplot as plt\n",
        "from scipy.stats import pearsonr\n",
        "\n",
        "# Define the degree of the polynomial\n",
        "degree = 2\n",
        "\n",
        "# Polynomial feature transformation\n",
        "poly_features = PolynomialFeatures(degree=degree)\n",
        "X_train_poly = poly_features.fit_transform(x_train)\n",
        "X_test_poly = poly_features.transform(x_test)\n",
        "\n",
        "# Define the alpha values to search\n",
        "alphas = np.logspace(-3, 2, 100)  # Search for alpha values from 0.001 to 100\n",
        "\n",
        "# Initialize Ridge regressor\n",
        "model = Ridge()\n",
        "\n",
        "# Define the hyperparameter grid for randomized search\n",
        "param_grid = {'alpha': alphas}\n",
        "\n",
        "# Perform randomized search for the best alpha value\n",
        "random_search = RandomizedSearchCV(model, param_distributions=param_grid, n_iter=10, scoring='neg_mean_squared_error', random_state=42)\n",
        "random_search.fit(X_train_poly, y_train)\n",
        "\n",
        "# Get the best model with the best alpha value\n",
        "best_model = random_search.best_estimator_\n",
        "\n",
        "# Predictions\n",
        "predictions_poly = best_model.predict(X_test_poly)\n",
        "\n",
        "# Model Evaluation\n",
        "mse_poly = mean_squared_error(y_test, predictions_poly)\n",
        "rmse_poly = np.sqrt(mse_poly)\n",
        "r2_poly = r2_score(y_test, predictions_poly)\n",
        "\n",
        "# Plotting Scatter Plot\n",
        "plt.scatter(y_test, predictions_poly)\n",
        "plt.plot(y_test, y_test, color='red', linestyle='--')  # Straight line representing perfect predictions\n",
        "plt.xlabel('Actual Values')\n",
        "plt.ylabel('Predicted Values')\n",
        "# Calculate Pearson correlation coefficient\n",
        "pearson_corr, _ = pearsonr(y_test, predictions_poly)\n",
        "plt.title('Predicted vs. Actual Values (Ridge regularization)')\n",
        "plt.show()\n",
        "\n",
        "# Print Model Evaluation Metrics\n",
        "print('\\nPolynomial Regression Model Evaluation with Ridge Regularization:')\n",
        "print(f'Mean Squared Error\\t: {mse_poly}')\n",
        "print(f'Root Mean Squared Error\\t: {rmse_poly}')\n",
        "print(f'R-squared\\t\\t: {r2_poly}')\n"
      ],
      "metadata": {
        "id": "bwTgT21V7IvU",
        "colab": {
          "base_uri": "https://localhost:8080/",
          "height": 563
        },
        "outputId": "9cd20b06-0ed0-4779-c585-ab50c7adc994"
      },
      "execution_count": null,
      "outputs": [
        {
          "output_type": "display_data",
          "data": {
            "text/plain": [
              "<Figure size 640x480 with 1 Axes>"
            ],
            "image/png": "[encoded data removed]"
          },
          "metadata": {}
        },
        {
          "output_type": "stream",
          "name": "stdout",
          "text": [
            "\n",
            "Polynomial Regression Model Evaluation with Ridge Regularization:\n",
            "Mean Squared Error\t: 0.02051284730974957\n",
            "Root Mean Squared Error\t: 0.14322306835754348\n",
            "R-squared\t\t: 0.5816133633857663\n"
          ]
        }
      ]
    },
    {
      "cell_type": "markdown",
      "source": [
        "# **Learning rate**"
      ],
      "metadata": {
        "id": "EKQ36PZgyFuc"
      }
    },
    {
      "cell_type": "code",
      "source": [
        "from sklearn.preprocessing import PolynomialFeatures\n",
        "from sklearn.linear_model import SGDRegressor\n",
        "from sklearn.model_selection import RandomizedSearchCV\n",
        "from scipy.stats import uniform\n",
        "from sklearn.metrics import mean_squared_error, r2_score\n",
        "import numpy as np\n",
        "import matplotlib.pyplot as plt\n",
        "\n",
        "# Define the degree of the polynomial\n",
        "degree = 2\n",
        "\n",
        "# Polynomial feature transformation\n",
        "poly_features = PolynomialFeatures(degree=degree)\n",
        "X_train_poly = poly_features.fit_transform(x_train)\n",
        "X_test_poly = poly_features.transform(x_test)\n",
        "\n",
        "# Define parameter grid for randomized search\n",
        "param_grid = {\n",
        "    'alpha': np.logspace(-3, 2, 100),  # Search for alpha values from 0.001 to 100\n",
        "    'learning_rate': ['constant'],\n",
        "    'eta0': uniform(0.001, 1.0)  # Uniform distribution for learning rate from 0.001 to 1.0\n",
        "}\n",
        "\n",
        "# Initialize SGDRegressor\n",
        "model = SGDRegressor(max_iter=1000, tol=1e-3, random_state=42)\n",
        "\n",
        "# Perform randomized search\n",
        "random_search = RandomizedSearchCV(model, param_distributions=param_grid, n_iter=10, scoring='neg_mean_squared_error', random_state=42)\n",
        "random_search.fit(X_train_poly, y_train)\n",
        "\n",
        "# Get the best model\n",
        "best_model = random_search.best_estimator_\n",
        "\n",
        "# Evaluate the best model on the test set\n",
        "predictions = best_model.predict(X_test_poly)\n",
        "mse = mean_squared_error(y_test, predictions)\n",
        "rmse = np.sqrt(mse)\n",
        "r2 = r2_score(y_test, predictions)\n",
        "\n",
        "print(\"Best Model Parameters:\")\n",
        "\n",
        "print(\"Mean Squared Error:\\t\", mse)\n",
        "print(\"Root Mean Squared Error:\", rmse)\n",
        "print(\"R-squared:\", r2)\n",
        "\n",
        "# Visualize the predicted vs. actual values\n",
        "plt.scatter(y_test, predictions)\n",
        "plt.plot([y_test.min(), y_test.max()], [y_test.min(), y_test.max()], 'k--', lw=2, color='red')  # Plotting the diagonal line\n",
        "plt.xlabel('Actual Values')\n",
        "plt.ylabel('Predicted Values')\n",
        "plt.title('Predicted vs Actual Values (Polynomial Regression with SGD)')\n",
        "plt.show()\n",
        "\n"
      ],
      "metadata": {
        "colab": {
          "base_uri": "https://localhost:8080/",
          "height": 601
        },
        "id": "1WJJQaB3yzFp",
        "outputId": "2c9fa132-eb76-4f1c-8ffd-b064d1a27f2a"
      },
      "execution_count": null,
      "outputs": [
        {
          "output_type": "stream",
          "name": "stdout",
          "text": [
            "Best Model Parameters:\n",
            "Mean Squared Error:\t 0.02231386305442632\n",
            "Root Mean Squared Error: 0.14937825495843202\n",
            "R-squared: 0.544879266528016\n"
          ]
        },
        {
          "output_type": "stream",
          "name": "stderr",
          "text": [
            "<ipython-input-272-d90f4df731c5>:48: UserWarning: color is redundantly defined by the 'color' keyword argument and the fmt string \"k--\" (-> color='k'). The keyword argument will take precedence.\n",
            "  plt.plot([y_test.min(), y_test.max()], [y_test.min(), y_test.max()], 'k--', lw=2, color='red')  # Plotting the diagonal line\n"
          ]
        },
        {
          "output_type": "display_data",
          "data": {
            "text/plain": [
              "<Figure size 640x480 with 1 Axes>"
            ],
            "image/png": "[encoded data removed]"
          },
          "metadata": {}
        }
      ]
    },
    {
      "cell_type": "markdown",
      "source": [
        "# **Conclusion**"
      ],
      "metadata": {
        "id": "EdyBSf6b5Yg6"
      }
    },
    {
      "cell_type": "markdown",
      "source": [
        "Based on the provided model evaluation results:\n",
        "\n",
        "we consider each case using 5 decimal places for better comparision\n",
        "\n",
        "**Polynomial Regression Model**\n",
        "\n",
        "Mean Squared Error\t:  0.02146\n",
        "\n",
        "Root Mean Squared Error\t: 0.14649\n",
        "\n",
        "R-squared\t\t: 0.56234\n",
        "\n",
        "\n",
        " **Polynomial Regression Model Evaluation with Ridge Regularization:**\n",
        "\n",
        "Mean Squared Error\t:  0.02051\n",
        "\n",
        "Root Mean Squared Error\t:  0.14322\n",
        "\n",
        "R-squared\t\t: 0.58161\n",
        "\n",
        "\n",
        "\n",
        "\n",
        "**Polynomial Regression Model with Learning Rate (SGD regression):**\n",
        "\n",
        "Mean Squared Error : 0.02231\n",
        "\n",
        "Root Mean Squared Error : 0.14938\n",
        "\n",
        "R-squared : 0.54488\n",
        "\n",
        "\n",
        "\n"
      ],
      "metadata": {
        "id": "qwxRvkeL5ab3"
      }
    },
    {
      "cell_type": "markdown",
      "source": [
        "Looking at the numbers, the model that used ridge regularization for polynomial regression gave the best results overall. Its mean squared error and root mean squared error values were the lowest, meaning its predictions had the smallest errors on average. It also had the highest R-squared value.\n",
        "\n",
        "Best value:\n",
        "\n",
        "Mean Squared Error : 0.02051\n",
        "\n",
        "Root Mean Squared Error : 0.14322\n",
        "\n",
        "R-squared : 0.58161"
      ],
      "metadata": {
        "id": "9Pre2dHfFrWg"
      }
    }
  ]
}